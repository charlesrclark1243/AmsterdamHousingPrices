{
 "cells": [
  {
   "cell_type": "markdown",
   "source": [
    "Import the necessary packages."
   ],
   "metadata": {
    "collapsed": false
   }
  },
  {
   "cell_type": "code",
   "execution_count": 39,
   "outputs": [],
   "source": [
    "# data science packages...\n",
    "import pandas as pd\n",
    "import numpy as np\n",
    "import matplotlib.pyplot as plt\n",
    "import seaborn as sns\n",
    "import sklearn.linear_model as lm\n",
    "import sklearn.model_selection as ms\n",
    "import sklearn.metrics as met\n",
    "\n",
    "# non-data science packages...\n",
    "import zipfile as zip\n",
    "import config"
   ],
   "metadata": {
    "collapsed": false,
    "pycharm": {
     "name": "#%%\n"
    }
   }
  },
  {
   "cell_type": "markdown",
   "source": [
    "Now, we should extract our data set from the .zip file downloaded."
   ],
   "metadata": {
    "collapsed": false,
    "pycharm": {
     "name": "#%% md\n"
    }
   }
  },
  {
   "cell_type": "code",
   "execution_count": 40,
   "outputs": [],
   "source": [
    "with zip.ZipFile(config.FILE_PATH, 'r') as zipfile:\n",
    "    zipfile.extractall(config.DIR_PATH)"
   ],
   "metadata": {
    "collapsed": false,
    "pycharm": {
     "name": "#%%\n"
    }
   }
  },
  {
   "cell_type": "markdown",
   "source": [
    "Next, we should extract the data from the .csv file into a pandas\n",
    "DataFrame object."
   ],
   "metadata": {
    "collapsed": false,
    "pycharm": {
     "name": "#%% md\n"
    }
   }
  },
  {
   "cell_type": "code",
   "execution_count": 41,
   "outputs": [
    {
     "data": {
      "text/plain": "     Unnamed: 0                                 Address      Zip     Price  \\\n0             1            Blasiusstraat 8 2, Amsterdam  1091 CR  685000.0   \n1             2  Kromme Leimuidenstraat 13 H, Amsterdam  1059 EL  475000.0   \n2             3              Zaaiersweg 11 A, Amsterdam  1097 SM  850000.0   \n3             4            Tenerifestraat 40, Amsterdam  1060 TH  580000.0   \n4             5              Winterjanpad 21, Amsterdam  1036 KN  720000.0   \n..          ...                                     ...      ...       ...   \n919         920                     Ringdijk, Amsterdam  1097 AE  750000.0   \n920         921         Kleine Beerstraat 31, Amsterdam  1033 CP  350000.0   \n921         922       Stuyvesantstraat 33 II, Amsterdam  1058 AK  350000.0   \n922         923   John Blankensteinstraat 51, Amsterdam  1095 MB  599000.0   \n923         924      S. F. van Ossstraat 334, Amsterdam  1068 JS  300000.0   \n\n     Area  Room       Lon        Lat  \n0      64     3  4.907736  52.356157  \n1      60     3  4.850476  52.348586  \n2     109     4  4.944774  52.343782  \n3     128     6  4.789928  52.343712  \n4     138     5  4.902503  52.410538  \n..    ...   ...       ...        ...  \n919   117     1  4.927757  52.354173  \n920    72     3  4.890612  52.414587  \n921    51     3  4.856935  52.363256  \n922   113     4  4.965731  52.375268  \n923    79     4  4.810678  52.355493  \n\n[924 rows x 8 columns]",
      "text/html": "<div>\n<style scoped>\n    .dataframe tbody tr th:only-of-type {\n        vertical-align: middle;\n    }\n\n    .dataframe tbody tr th {\n        vertical-align: top;\n    }\n\n    .dataframe thead th {\n        text-align: right;\n    }\n</style>\n<table border=\"1\" class=\"dataframe\">\n  <thead>\n    <tr style=\"text-align: right;\">\n      <th></th>\n      <th>Unnamed: 0</th>\n      <th>Address</th>\n      <th>Zip</th>\n      <th>Price</th>\n      <th>Area</th>\n      <th>Room</th>\n      <th>Lon</th>\n      <th>Lat</th>\n    </tr>\n  </thead>\n  <tbody>\n    <tr>\n      <th>0</th>\n      <td>1</td>\n      <td>Blasiusstraat 8 2, Amsterdam</td>\n      <td>1091 CR</td>\n      <td>685000.0</td>\n      <td>64</td>\n      <td>3</td>\n      <td>4.907736</td>\n      <td>52.356157</td>\n    </tr>\n    <tr>\n      <th>1</th>\n      <td>2</td>\n      <td>Kromme Leimuidenstraat 13 H, Amsterdam</td>\n      <td>1059 EL</td>\n      <td>475000.0</td>\n      <td>60</td>\n      <td>3</td>\n      <td>4.850476</td>\n      <td>52.348586</td>\n    </tr>\n    <tr>\n      <th>2</th>\n      <td>3</td>\n      <td>Zaaiersweg 11 A, Amsterdam</td>\n      <td>1097 SM</td>\n      <td>850000.0</td>\n      <td>109</td>\n      <td>4</td>\n      <td>4.944774</td>\n      <td>52.343782</td>\n    </tr>\n    <tr>\n      <th>3</th>\n      <td>4</td>\n      <td>Tenerifestraat 40, Amsterdam</td>\n      <td>1060 TH</td>\n      <td>580000.0</td>\n      <td>128</td>\n      <td>6</td>\n      <td>4.789928</td>\n      <td>52.343712</td>\n    </tr>\n    <tr>\n      <th>4</th>\n      <td>5</td>\n      <td>Winterjanpad 21, Amsterdam</td>\n      <td>1036 KN</td>\n      <td>720000.0</td>\n      <td>138</td>\n      <td>5</td>\n      <td>4.902503</td>\n      <td>52.410538</td>\n    </tr>\n    <tr>\n      <th>...</th>\n      <td>...</td>\n      <td>...</td>\n      <td>...</td>\n      <td>...</td>\n      <td>...</td>\n      <td>...</td>\n      <td>...</td>\n      <td>...</td>\n    </tr>\n    <tr>\n      <th>919</th>\n      <td>920</td>\n      <td>Ringdijk, Amsterdam</td>\n      <td>1097 AE</td>\n      <td>750000.0</td>\n      <td>117</td>\n      <td>1</td>\n      <td>4.927757</td>\n      <td>52.354173</td>\n    </tr>\n    <tr>\n      <th>920</th>\n      <td>921</td>\n      <td>Kleine Beerstraat 31, Amsterdam</td>\n      <td>1033 CP</td>\n      <td>350000.0</td>\n      <td>72</td>\n      <td>3</td>\n      <td>4.890612</td>\n      <td>52.414587</td>\n    </tr>\n    <tr>\n      <th>921</th>\n      <td>922</td>\n      <td>Stuyvesantstraat 33 II, Amsterdam</td>\n      <td>1058 AK</td>\n      <td>350000.0</td>\n      <td>51</td>\n      <td>3</td>\n      <td>4.856935</td>\n      <td>52.363256</td>\n    </tr>\n    <tr>\n      <th>922</th>\n      <td>923</td>\n      <td>John Blankensteinstraat 51, Amsterdam</td>\n      <td>1095 MB</td>\n      <td>599000.0</td>\n      <td>113</td>\n      <td>4</td>\n      <td>4.965731</td>\n      <td>52.375268</td>\n    </tr>\n    <tr>\n      <th>923</th>\n      <td>924</td>\n      <td>S. F. van Ossstraat 334, Amsterdam</td>\n      <td>1068 JS</td>\n      <td>300000.0</td>\n      <td>79</td>\n      <td>4</td>\n      <td>4.810678</td>\n      <td>52.355493</td>\n    </tr>\n  </tbody>\n</table>\n<p>924 rows × 8 columns</p>\n</div>"
     },
     "execution_count": 41,
     "metadata": {},
     "output_type": "execute_result"
    }
   ],
   "source": [
    "data = pd.read_csv(f'{config.DIR_PATH}/HousingPrices-Amsterdam-August-2021.csv')\n",
    "data"
   ],
   "metadata": {
    "collapsed": false,
    "pycharm": {
     "name": "#%%\n"
    }
   }
  },
  {
   "cell_type": "markdown",
   "source": [
    "The first thing we should do with our data set is determine how many\n",
    "observations it contains."
   ],
   "metadata": {
    "collapsed": false,
    "pycharm": {
     "name": "#%% md\n"
    }
   }
  },
  {
   "cell_type": "code",
   "execution_count": 42,
   "outputs": [
    {
     "data": {
      "text/plain": "924"
     },
     "execution_count": 42,
     "metadata": {},
     "output_type": "execute_result"
    }
   ],
   "source": [
    "len(data)"
   ],
   "metadata": {
    "collapsed": false,
    "pycharm": {
     "name": "#%%\n"
    }
   }
  },
  {
   "cell_type": "markdown",
   "source": [
    "Second, we should check if there are any missing values in the data."
   ],
   "metadata": {
    "collapsed": false,
    "pycharm": {
     "name": "#%% md\n"
    }
   }
  },
  {
   "cell_type": "code",
   "execution_count": 43,
   "outputs": [
    {
     "data": {
      "text/plain": "Unnamed: 0    False\nAddress       False\nZip           False\nPrice          True\nArea          False\nRoom          False\nLon           False\nLat           False\ndtype: bool"
     },
     "execution_count": 43,
     "metadata": {},
     "output_type": "execute_result"
    }
   ],
   "source": [
    "data.isna().any()"
   ],
   "metadata": {
    "collapsed": false,
    "pycharm": {
     "name": "#%%\n"
    }
   }
  },
  {
   "cell_type": "markdown",
   "source": [
    "It seems that the only feature in the data set with missing values is\n",
    "the Price column. Let's inspect these observations."
   ],
   "metadata": {
    "collapsed": false,
    "pycharm": {
     "name": "#%% md\n"
    }
   }
  },
  {
   "cell_type": "code",
   "execution_count": 44,
   "outputs": [
    {
     "data": {
      "text/plain": "     Unnamed: 0                       Address      Zip  Price  Area  Room  \\\n73           74   Falckstraat 47 A, Amsterdam  1017 VV    NaN   147     3   \n321         322  Haarlemmerweg 705, Amsterdam  1067 HP    NaN   366    12   \n610         611  Zeeburgerkade 760, Amsterdam  1019 HT    NaN   107     3   \n727         728     Suikerplein 16, Amsterdam  1013 CK    NaN    81     3   \n\n          Lon        Lat  \n73   4.897454  52.360707  \n321  4.787874  52.383877  \n610  4.945022  52.369244  \n727  4.880976  52.389623  ",
      "text/html": "<div>\n<style scoped>\n    .dataframe tbody tr th:only-of-type {\n        vertical-align: middle;\n    }\n\n    .dataframe tbody tr th {\n        vertical-align: top;\n    }\n\n    .dataframe thead th {\n        text-align: right;\n    }\n</style>\n<table border=\"1\" class=\"dataframe\">\n  <thead>\n    <tr style=\"text-align: right;\">\n      <th></th>\n      <th>Unnamed: 0</th>\n      <th>Address</th>\n      <th>Zip</th>\n      <th>Price</th>\n      <th>Area</th>\n      <th>Room</th>\n      <th>Lon</th>\n      <th>Lat</th>\n    </tr>\n  </thead>\n  <tbody>\n    <tr>\n      <th>73</th>\n      <td>74</td>\n      <td>Falckstraat 47 A, Amsterdam</td>\n      <td>1017 VV</td>\n      <td>NaN</td>\n      <td>147</td>\n      <td>3</td>\n      <td>4.897454</td>\n      <td>52.360707</td>\n    </tr>\n    <tr>\n      <th>321</th>\n      <td>322</td>\n      <td>Haarlemmerweg 705, Amsterdam</td>\n      <td>1067 HP</td>\n      <td>NaN</td>\n      <td>366</td>\n      <td>12</td>\n      <td>4.787874</td>\n      <td>52.383877</td>\n    </tr>\n    <tr>\n      <th>610</th>\n      <td>611</td>\n      <td>Zeeburgerkade 760, Amsterdam</td>\n      <td>1019 HT</td>\n      <td>NaN</td>\n      <td>107</td>\n      <td>3</td>\n      <td>4.945022</td>\n      <td>52.369244</td>\n    </tr>\n    <tr>\n      <th>727</th>\n      <td>728</td>\n      <td>Suikerplein 16, Amsterdam</td>\n      <td>1013 CK</td>\n      <td>NaN</td>\n      <td>81</td>\n      <td>3</td>\n      <td>4.880976</td>\n      <td>52.389623</td>\n    </tr>\n  </tbody>\n</table>\n</div>"
     },
     "execution_count": 44,
     "metadata": {},
     "output_type": "execute_result"
    }
   ],
   "source": [
    "data[data['Price'].isna()]"
   ],
   "metadata": {
    "collapsed": false,
    "pycharm": {
     "name": "#%%\n"
    }
   }
  },
  {
   "cell_type": "markdown",
   "source": [
    "Since there are only 4 observations with missing Price values, we can\n",
    "simply drop these observations from the data, as our data set is large\n",
    "enough that dropping 4 rows wouldn't greatly affect our work."
   ],
   "metadata": {
    "collapsed": false,
    "pycharm": {
     "name": "#%% md\n"
    }
   }
  },
  {
   "cell_type": "code",
   "execution_count": 45,
   "outputs": [
    {
     "data": {
      "text/plain": "Unnamed: 0    False\nAddress       False\nZip           False\nPrice         False\nArea          False\nRoom          False\nLon           False\nLat           False\ndtype: bool"
     },
     "execution_count": 45,
     "metadata": {},
     "output_type": "execute_result"
    }
   ],
   "source": [
    "data.dropna(subset=['Price'], inplace=True)\n",
    "data.isna().any()"
   ],
   "metadata": {
    "collapsed": false,
    "pycharm": {
     "name": "#%%\n"
    }
   }
  },
  {
   "cell_type": "markdown",
   "source": [
    "After dropping the rows with missing Price values, it looks like there are\n",
    "no more missing values in our data set. We should double-check the size of\n",
    "the data set to make sure only four rows were dropped."
   ],
   "metadata": {
    "collapsed": false,
    "pycharm": {
     "name": "#%% md\n"
    }
   }
  },
  {
   "cell_type": "code",
   "execution_count": 46,
   "outputs": [
    {
     "data": {
      "text/plain": "920"
     },
     "execution_count": 46,
     "metadata": {},
     "output_type": "execute_result"
    }
   ],
   "source": [
    "len(data)"
   ],
   "metadata": {
    "collapsed": false,
    "pycharm": {
     "name": "#%%\n"
    }
   }
  },
  {
   "cell_type": "markdown",
   "source": [
    "924 - 4 = 920. Since the length of the data set is now 920, it looks\n",
    "like the four rows with missing data values were the only ones dropped.\n",
    "At this point, we should consider dropping any features of the data which don't serve\n",
    "the purpose of improving the quality of the data or the work we'll be performing on it.\n",
    "\n",
    "One such feature would be the \"Unnamed: 0\" feature. It seems that the author of the original\n",
    "data file included an index column. However, the author used 1-indexing, while pandas\n",
    "DataFrame objects (at least in PyCharm) use 0-indexing. Either way, the author's index\n",
    "column is redundant, as pandas uses its own indexing. Therefore, we should\n",
    "drop the \"Unnamed: 0\" column from the data."
   ],
   "metadata": {
    "collapsed": false,
    "pycharm": {
     "name": "#%% md\n"
    }
   }
  },
  {
   "cell_type": "code",
   "execution_count": 47,
   "outputs": [
    {
     "data": {
      "text/plain": "                                    Address      Zip     Price  Area  Room  \\\n0              Blasiusstraat 8 2, Amsterdam  1091 CR  685000.0    64     3   \n1    Kromme Leimuidenstraat 13 H, Amsterdam  1059 EL  475000.0    60     3   \n2                Zaaiersweg 11 A, Amsterdam  1097 SM  850000.0   109     4   \n3              Tenerifestraat 40, Amsterdam  1060 TH  580000.0   128     6   \n4                Winterjanpad 21, Amsterdam  1036 KN  720000.0   138     5   \n..                                      ...      ...       ...   ...   ...   \n919                     Ringdijk, Amsterdam  1097 AE  750000.0   117     1   \n920         Kleine Beerstraat 31, Amsterdam  1033 CP  350000.0    72     3   \n921       Stuyvesantstraat 33 II, Amsterdam  1058 AK  350000.0    51     3   \n922   John Blankensteinstraat 51, Amsterdam  1095 MB  599000.0   113     4   \n923      S. F. van Ossstraat 334, Amsterdam  1068 JS  300000.0    79     4   \n\n          Lon        Lat  \n0    4.907736  52.356157  \n1    4.850476  52.348586  \n2    4.944774  52.343782  \n3    4.789928  52.343712  \n4    4.902503  52.410538  \n..        ...        ...  \n919  4.927757  52.354173  \n920  4.890612  52.414587  \n921  4.856935  52.363256  \n922  4.965731  52.375268  \n923  4.810678  52.355493  \n\n[920 rows x 7 columns]",
      "text/html": "<div>\n<style scoped>\n    .dataframe tbody tr th:only-of-type {\n        vertical-align: middle;\n    }\n\n    .dataframe tbody tr th {\n        vertical-align: top;\n    }\n\n    .dataframe thead th {\n        text-align: right;\n    }\n</style>\n<table border=\"1\" class=\"dataframe\">\n  <thead>\n    <tr style=\"text-align: right;\">\n      <th></th>\n      <th>Address</th>\n      <th>Zip</th>\n      <th>Price</th>\n      <th>Area</th>\n      <th>Room</th>\n      <th>Lon</th>\n      <th>Lat</th>\n    </tr>\n  </thead>\n  <tbody>\n    <tr>\n      <th>0</th>\n      <td>Blasiusstraat 8 2, Amsterdam</td>\n      <td>1091 CR</td>\n      <td>685000.0</td>\n      <td>64</td>\n      <td>3</td>\n      <td>4.907736</td>\n      <td>52.356157</td>\n    </tr>\n    <tr>\n      <th>1</th>\n      <td>Kromme Leimuidenstraat 13 H, Amsterdam</td>\n      <td>1059 EL</td>\n      <td>475000.0</td>\n      <td>60</td>\n      <td>3</td>\n      <td>4.850476</td>\n      <td>52.348586</td>\n    </tr>\n    <tr>\n      <th>2</th>\n      <td>Zaaiersweg 11 A, Amsterdam</td>\n      <td>1097 SM</td>\n      <td>850000.0</td>\n      <td>109</td>\n      <td>4</td>\n      <td>4.944774</td>\n      <td>52.343782</td>\n    </tr>\n    <tr>\n      <th>3</th>\n      <td>Tenerifestraat 40, Amsterdam</td>\n      <td>1060 TH</td>\n      <td>580000.0</td>\n      <td>128</td>\n      <td>6</td>\n      <td>4.789928</td>\n      <td>52.343712</td>\n    </tr>\n    <tr>\n      <th>4</th>\n      <td>Winterjanpad 21, Amsterdam</td>\n      <td>1036 KN</td>\n      <td>720000.0</td>\n      <td>138</td>\n      <td>5</td>\n      <td>4.902503</td>\n      <td>52.410538</td>\n    </tr>\n    <tr>\n      <th>...</th>\n      <td>...</td>\n      <td>...</td>\n      <td>...</td>\n      <td>...</td>\n      <td>...</td>\n      <td>...</td>\n      <td>...</td>\n    </tr>\n    <tr>\n      <th>919</th>\n      <td>Ringdijk, Amsterdam</td>\n      <td>1097 AE</td>\n      <td>750000.0</td>\n      <td>117</td>\n      <td>1</td>\n      <td>4.927757</td>\n      <td>52.354173</td>\n    </tr>\n    <tr>\n      <th>920</th>\n      <td>Kleine Beerstraat 31, Amsterdam</td>\n      <td>1033 CP</td>\n      <td>350000.0</td>\n      <td>72</td>\n      <td>3</td>\n      <td>4.890612</td>\n      <td>52.414587</td>\n    </tr>\n    <tr>\n      <th>921</th>\n      <td>Stuyvesantstraat 33 II, Amsterdam</td>\n      <td>1058 AK</td>\n      <td>350000.0</td>\n      <td>51</td>\n      <td>3</td>\n      <td>4.856935</td>\n      <td>52.363256</td>\n    </tr>\n    <tr>\n      <th>922</th>\n      <td>John Blankensteinstraat 51, Amsterdam</td>\n      <td>1095 MB</td>\n      <td>599000.0</td>\n      <td>113</td>\n      <td>4</td>\n      <td>4.965731</td>\n      <td>52.375268</td>\n    </tr>\n    <tr>\n      <th>923</th>\n      <td>S. F. van Ossstraat 334, Amsterdam</td>\n      <td>1068 JS</td>\n      <td>300000.0</td>\n      <td>79</td>\n      <td>4</td>\n      <td>4.810678</td>\n      <td>52.355493</td>\n    </tr>\n  </tbody>\n</table>\n<p>920 rows × 7 columns</p>\n</div>"
     },
     "execution_count": 47,
     "metadata": {},
     "output_type": "execute_result"
    }
   ],
   "source": [
    "data.drop(columns=['Unnamed: 0'], inplace=True)\n",
    "data"
   ],
   "metadata": {
    "collapsed": false,
    "pycharm": {
     "name": "#%%\n"
    }
   }
  },
  {
   "cell_type": "markdown",
   "source": [
    "Now, we should check for duplicates in the data."
   ],
   "metadata": {
    "collapsed": false,
    "pycharm": {
     "name": "#%% md\n"
    }
   }
  },
  {
   "cell_type": "code",
   "execution_count": 48,
   "outputs": [
    {
     "data": {
      "text/plain": "True"
     },
     "execution_count": 48,
     "metadata": {},
     "output_type": "execute_result"
    }
   ],
   "source": [
    "data.duplicated().any()"
   ],
   "metadata": {
    "collapsed": false,
    "pycharm": {
     "name": "#%%\n"
    }
   }
  },
  {
   "cell_type": "markdown",
   "source": [
    "It looks like our data does contain duplicates. Let's inspect these\n",
    "duplicate observations directly."
   ],
   "metadata": {
    "collapsed": false
   }
  },
  {
   "cell_type": "code",
   "source": [
    "data[data.duplicated()]"
   ],
   "metadata": {
    "collapsed": false,
    "pycharm": {
     "name": "#%%\n"
    }
   },
   "execution_count": 49,
   "outputs": [
    {
     "data": {
      "text/plain": "                       Address      Zip     Price  Area  Room       Lon  \\\n909  Quashibastraat, Amsterdam  1087 VS  348738.0    79     4  5.016555   \n\n           Lat  \n909  52.350513  ",
      "text/html": "<div>\n<style scoped>\n    .dataframe tbody tr th:only-of-type {\n        vertical-align: middle;\n    }\n\n    .dataframe tbody tr th {\n        vertical-align: top;\n    }\n\n    .dataframe thead th {\n        text-align: right;\n    }\n</style>\n<table border=\"1\" class=\"dataframe\">\n  <thead>\n    <tr style=\"text-align: right;\">\n      <th></th>\n      <th>Address</th>\n      <th>Zip</th>\n      <th>Price</th>\n      <th>Area</th>\n      <th>Room</th>\n      <th>Lon</th>\n      <th>Lat</th>\n    </tr>\n  </thead>\n  <tbody>\n    <tr>\n      <th>909</th>\n      <td>Quashibastraat, Amsterdam</td>\n      <td>1087 VS</td>\n      <td>348738.0</td>\n      <td>79</td>\n      <td>4</td>\n      <td>5.016555</td>\n      <td>52.350513</td>\n    </tr>\n  </tbody>\n</table>\n</div>"
     },
     "execution_count": 49,
     "metadata": {},
     "output_type": "execute_result"
    }
   ]
  },
  {
   "cell_type": "markdown",
   "source": [
    "There seems to be one duplicate entry in the data. However, the Address value of\n",
    "the duplicate record doesn't contain unit number. Considering that Amsterdam is a city,\n",
    "it is technically possible that this duplicate record is simply one of two apartments or condominiums in\n",
    "the same building that are for sale. This would explain why there are two records with the\n",
    "same latitude and longitude, as an apartment building only has one set of coordinates. It would\n",
    "also explain why the price, area, and number of rooms is the same. Sometimes apartment buildings\n",
    "use a set of templates when  constructing and designing the apartment units, so it's possible that\n",
    "this record was built using the same template as the duplicated record, thus explaining the\n",
    "equal area and room counts. Furthermore, if this record was another apartment which followed the same\n",
    "template as the duplicated record, then selling them for the same prices would also make sense.\n",
    "It would follow naturally that these two potential apartments would share a zip code, considering they'd\n",
    "be in the same building, and since the Address value is simply a street name followed by the city name,\n",
    "it would make sense that they'd be the same for both records: two apartment units in the same\n",
    "building don't usually reside on different streets, at least in my experience, and of course they'd\n",
    "both be in Amsterdam. One could make the argument that this duplicate record\n",
    "is not actually a duplicate, and we've just synthesized a solid example to support this theory. Of course,\n",
    "it is possible that it is a duplicate, however the circumstances of this particular record more likely\n",
    "suggest that this is not the case.\n",
    "\n",
    "Out of curiosity, I decided to perform a quick search on the Internet for apartments on Quashibastraat, Amsterdam;\n",
    "a cropped screenshot of what I found is included in the data folder. The screenshot captures listings for\n",
    "two apartments in the same apartment building on Quashibastraat. Both listings refer to apartments\n",
    "which span 79 square meters, contain 4 bedrooms, and cost 348,738 Euros. Note: the screenshots list\n",
    "\"348.738\" as the prices for both apartments. Another Internet search informed me that in Europe, a period is used\n",
    "in place of a comma when separating groups of numbers, while the comma is used to represent a decimal point: for example,\n",
    "to write one thousand and a half, Americans (and possibly the rest of North America, or even the Western Hemisphere, as I'm\n",
    "not knowledgeable in this matter) would write \"1,000.5\" while Europeans would write \"1.000,5\". Therefore,\n",
    "because the screenshot is from a Dutch website (I translated the text using a browser tool), it makes sense that\n",
    "the price listing \"348.738\" would be the same as an \"348,738\" in the notation used commonly by Americans. Thus, it has been\n",
    "proven that the duplicate record in the data is not actually a duplicate, so it should remain in the data set.\n",
    "\n",
    "Now that I've spent the last hour descending into the rabbit's hole over a single\n",
    "data record, let's continue with our work. The last thing we should do is reset the indexing\n",
    "in the DataFrame containing our data: the indexing didn't adjust when we were cleaning our data, so\n",
    "the greatest index value might be larger than the number of observations in our data set."
   ],
   "metadata": {
    "collapsed": false,
    "pycharm": {
     "name": "#%% md\n"
    }
   }
  },
  {
   "cell_type": "code",
   "execution_count": 50,
   "outputs": [
    {
     "data": {
      "text/plain": "                                    Address      Zip     Price  Area  Room  \\\n0              Blasiusstraat 8 2, Amsterdam  1091 CR  685000.0    64     3   \n1    Kromme Leimuidenstraat 13 H, Amsterdam  1059 EL  475000.0    60     3   \n2                Zaaiersweg 11 A, Amsterdam  1097 SM  850000.0   109     4   \n3              Tenerifestraat 40, Amsterdam  1060 TH  580000.0   128     6   \n4                Winterjanpad 21, Amsterdam  1036 KN  720000.0   138     5   \n..                                      ...      ...       ...   ...   ...   \n915                     Ringdijk, Amsterdam  1097 AE  750000.0   117     1   \n916         Kleine Beerstraat 31, Amsterdam  1033 CP  350000.0    72     3   \n917       Stuyvesantstraat 33 II, Amsterdam  1058 AK  350000.0    51     3   \n918   John Blankensteinstraat 51, Amsterdam  1095 MB  599000.0   113     4   \n919      S. F. van Ossstraat 334, Amsterdam  1068 JS  300000.0    79     4   \n\n          Lon        Lat  \n0    4.907736  52.356157  \n1    4.850476  52.348586  \n2    4.944774  52.343782  \n3    4.789928  52.343712  \n4    4.902503  52.410538  \n..        ...        ...  \n915  4.927757  52.354173  \n916  4.890612  52.414587  \n917  4.856935  52.363256  \n918  4.965731  52.375268  \n919  4.810678  52.355493  \n\n[920 rows x 7 columns]",
      "text/html": "<div>\n<style scoped>\n    .dataframe tbody tr th:only-of-type {\n        vertical-align: middle;\n    }\n\n    .dataframe tbody tr th {\n        vertical-align: top;\n    }\n\n    .dataframe thead th {\n        text-align: right;\n    }\n</style>\n<table border=\"1\" class=\"dataframe\">\n  <thead>\n    <tr style=\"text-align: right;\">\n      <th></th>\n      <th>Address</th>\n      <th>Zip</th>\n      <th>Price</th>\n      <th>Area</th>\n      <th>Room</th>\n      <th>Lon</th>\n      <th>Lat</th>\n    </tr>\n  </thead>\n  <tbody>\n    <tr>\n      <th>0</th>\n      <td>Blasiusstraat 8 2, Amsterdam</td>\n      <td>1091 CR</td>\n      <td>685000.0</td>\n      <td>64</td>\n      <td>3</td>\n      <td>4.907736</td>\n      <td>52.356157</td>\n    </tr>\n    <tr>\n      <th>1</th>\n      <td>Kromme Leimuidenstraat 13 H, Amsterdam</td>\n      <td>1059 EL</td>\n      <td>475000.0</td>\n      <td>60</td>\n      <td>3</td>\n      <td>4.850476</td>\n      <td>52.348586</td>\n    </tr>\n    <tr>\n      <th>2</th>\n      <td>Zaaiersweg 11 A, Amsterdam</td>\n      <td>1097 SM</td>\n      <td>850000.0</td>\n      <td>109</td>\n      <td>4</td>\n      <td>4.944774</td>\n      <td>52.343782</td>\n    </tr>\n    <tr>\n      <th>3</th>\n      <td>Tenerifestraat 40, Amsterdam</td>\n      <td>1060 TH</td>\n      <td>580000.0</td>\n      <td>128</td>\n      <td>6</td>\n      <td>4.789928</td>\n      <td>52.343712</td>\n    </tr>\n    <tr>\n      <th>4</th>\n      <td>Winterjanpad 21, Amsterdam</td>\n      <td>1036 KN</td>\n      <td>720000.0</td>\n      <td>138</td>\n      <td>5</td>\n      <td>4.902503</td>\n      <td>52.410538</td>\n    </tr>\n    <tr>\n      <th>...</th>\n      <td>...</td>\n      <td>...</td>\n      <td>...</td>\n      <td>...</td>\n      <td>...</td>\n      <td>...</td>\n      <td>...</td>\n    </tr>\n    <tr>\n      <th>915</th>\n      <td>Ringdijk, Amsterdam</td>\n      <td>1097 AE</td>\n      <td>750000.0</td>\n      <td>117</td>\n      <td>1</td>\n      <td>4.927757</td>\n      <td>52.354173</td>\n    </tr>\n    <tr>\n      <th>916</th>\n      <td>Kleine Beerstraat 31, Amsterdam</td>\n      <td>1033 CP</td>\n      <td>350000.0</td>\n      <td>72</td>\n      <td>3</td>\n      <td>4.890612</td>\n      <td>52.414587</td>\n    </tr>\n    <tr>\n      <th>917</th>\n      <td>Stuyvesantstraat 33 II, Amsterdam</td>\n      <td>1058 AK</td>\n      <td>350000.0</td>\n      <td>51</td>\n      <td>3</td>\n      <td>4.856935</td>\n      <td>52.363256</td>\n    </tr>\n    <tr>\n      <th>918</th>\n      <td>John Blankensteinstraat 51, Amsterdam</td>\n      <td>1095 MB</td>\n      <td>599000.0</td>\n      <td>113</td>\n      <td>4</td>\n      <td>4.965731</td>\n      <td>52.375268</td>\n    </tr>\n    <tr>\n      <th>919</th>\n      <td>S. F. van Ossstraat 334, Amsterdam</td>\n      <td>1068 JS</td>\n      <td>300000.0</td>\n      <td>79</td>\n      <td>4</td>\n      <td>4.810678</td>\n      <td>52.355493</td>\n    </tr>\n  </tbody>\n</table>\n<p>920 rows × 7 columns</p>\n</div>"
     },
     "execution_count": 50,
     "metadata": {},
     "output_type": "execute_result"
    }
   ],
   "source": [
    "data.reset_index(drop=True, inplace=True)\n",
    "data"
   ],
   "metadata": {
    "collapsed": false,
    "pycharm": {
     "name": "#%%\n"
    }
   }
  },
  {
   "cell_type": "markdown",
   "source": [
    "At this point, we've thoroughly cleaned our data, so now let's try to discover relationships in the data through visualization. First,\n",
    "we'll create two histograms of the Price field: one of the raw Price data, and the other\n",
    "using log(Price) data. We're including the log(Price) histogram because it is common\n",
    "that quantities such as house price follow power rules, so employing a log transformation in one\n",
    "of the histograms will attempt to normalize the distribution in such a case."
   ],
   "metadata": {
    "collapsed": false,
    "pycharm": {
     "name": "#%% md\n"
    }
   }
  },
  {
   "cell_type": "code",
   "execution_count": 51,
   "outputs": [
    {
     "data": {
      "text/plain": "<Figure size 648x576 with 1 Axes>",
      "image/png": "[encoded data removed]"
     },
     "metadata": {
      "needs_background": "light"
     },
     "output_type": "display_data"
    },
    {
     "data": {
      "text/plain": "<Figure size 648x576 with 1 Axes>",
      "image/png": "[encoded data removed]"
     },
     "metadata": {
      "needs_background": "light"
     },
     "output_type": "display_data"
    }
   ],
   "source": [
    "plt.figure(figsize=(9, 8))\n",
    "plt.subplot(2, 1, 1)\n",
    "plt.hist(x=data['Price'], color='#5500dd', edgecolor='black',\n",
    "         bins=np.arange(0, 6500000, 500000))\n",
    "plt.xlabel('Price')\n",
    "plt.ylabel('Frequency')\n",
    "plt.title('Price Histogram')\n",
    "plt.xticks(range(0, 6500000, 500000))\n",
    "plt.yticks(range(0, 600, 100))\n",
    "plt.show()\n",
    "\n",
    "plt.figure(figsize=(9, 8))\n",
    "plt.subplot(2, 1, 2)\n",
    "plt.hist(x=np.log(data['Price']), color='#0055dd', edgecolor='black',\n",
    "         bins=np.arange(12.0, 16.5, 0.25))\n",
    "plt.xlabel('log(Price)')\n",
    "plt.ylabel('Frequency')\n",
    "plt.title('log(Price) Histogram')\n",
    "plt.xticks(np.arange(12.0, 16.5, 0.5))\n",
    "plt.yticks(range(0, 300, 50))\n",
    "plt.show()"
   ],
   "metadata": {
    "collapsed": false,
    "pycharm": {
     "name": "#%%\n"
    }
   }
  },
  {
   "cell_type": "markdown",
   "source": [
    "It looks like the Price feature did follow a sort of power rule, as the\n",
    "log(Price) histogram seems much closer to a normal distribution than the\n",
    "raw Price data histogram. Therefore, we should add a log(Price) feature to\n",
    "the data set."
   ],
   "metadata": {
    "collapsed": false,
    "pycharm": {
     "name": "#%% md\n"
    }
   }
  },
  {
   "cell_type": "code",
   "execution_count": 52,
   "outputs": [
    {
     "data": {
      "text/plain": "                                    Address      Zip     Price  Area  Room  \\\n0              Blasiusstraat 8 2, Amsterdam  1091 CR  685000.0    64     3   \n1    Kromme Leimuidenstraat 13 H, Amsterdam  1059 EL  475000.0    60     3   \n2                Zaaiersweg 11 A, Amsterdam  1097 SM  850000.0   109     4   \n3              Tenerifestraat 40, Amsterdam  1060 TH  580000.0   128     6   \n4                Winterjanpad 21, Amsterdam  1036 KN  720000.0   138     5   \n..                                      ...      ...       ...   ...   ...   \n915                     Ringdijk, Amsterdam  1097 AE  750000.0   117     1   \n916         Kleine Beerstraat 31, Amsterdam  1033 CP  350000.0    72     3   \n917       Stuyvesantstraat 33 II, Amsterdam  1058 AK  350000.0    51     3   \n918   John Blankensteinstraat 51, Amsterdam  1095 MB  599000.0   113     4   \n919      S. F. van Ossstraat 334, Amsterdam  1068 JS  300000.0    79     4   \n\n          Lon        Lat  log(Price)  \n0    4.907736  52.356157   13.437174  \n1    4.850476  52.348586   13.071070  \n2    4.944774  52.343782   13.652992  \n3    4.789928  52.343712   13.270783  \n4    4.902503  52.410538   13.487006  \n..        ...        ...         ...  \n915  4.927757  52.354173   13.527828  \n916  4.890612  52.414587   12.765688  \n917  4.856935  52.363256   12.765688  \n918  4.965731  52.375268   13.303017  \n919  4.810678  52.355493   12.611538  \n\n[920 rows x 8 columns]",
      "text/html": "<div>\n<style scoped>\n    .dataframe tbody tr th:only-of-type {\n        vertical-align: middle;\n    }\n\n    .dataframe tbody tr th {\n        vertical-align: top;\n    }\n\n    .dataframe thead th {\n        text-align: right;\n    }\n</style>\n<table border=\"1\" class=\"dataframe\">\n  <thead>\n    <tr style=\"text-align: right;\">\n      <th></th>\n      <th>Address</th>\n      <th>Zip</th>\n      <th>Price</th>\n      <th>Area</th>\n      <th>Room</th>\n      <th>Lon</th>\n      <th>Lat</th>\n      <th>log(Price)</th>\n    </tr>\n  </thead>\n  <tbody>\n    <tr>\n      <th>0</th>\n      <td>Blasiusstraat 8 2, Amsterdam</td>\n      <td>1091 CR</td>\n      <td>685000.0</td>\n      <td>64</td>\n      <td>3</td>\n      <td>4.907736</td>\n      <td>52.356157</td>\n      <td>13.437174</td>\n    </tr>\n    <tr>\n      <th>1</th>\n      <td>Kromme Leimuidenstraat 13 H, Amsterdam</td>\n      <td>1059 EL</td>\n      <td>475000.0</td>\n      <td>60</td>\n      <td>3</td>\n      <td>4.850476</td>\n      <td>52.348586</td>\n      <td>13.071070</td>\n    </tr>\n    <tr>\n      <th>2</th>\n      <td>Zaaiersweg 11 A, Amsterdam</td>\n      <td>1097 SM</td>\n      <td>850000.0</td>\n      <td>109</td>\n      <td>4</td>\n      <td>4.944774</td>\n      <td>52.343782</td>\n      <td>13.652992</td>\n    </tr>\n    <tr>\n      <th>3</th>\n      <td>Tenerifestraat 40, Amsterdam</td>\n      <td>1060 TH</td>\n      <td>580000.0</td>\n      <td>128</td>\n      <td>6</td>\n      <td>4.789928</td>\n      <td>52.343712</td>\n      <td>13.270783</td>\n    </tr>\n    <tr>\n      <th>4</th>\n      <td>Winterjanpad 21, Amsterdam</td>\n      <td>1036 KN</td>\n      <td>720000.0</td>\n      <td>138</td>\n      <td>5</td>\n      <td>4.902503</td>\n      <td>52.410538</td>\n      <td>13.487006</td>\n    </tr>\n    <tr>\n      <th>...</th>\n      <td>...</td>\n      <td>...</td>\n      <td>...</td>\n      <td>...</td>\n      <td>...</td>\n      <td>...</td>\n      <td>...</td>\n      <td>...</td>\n    </tr>\n    <tr>\n      <th>915</th>\n      <td>Ringdijk, Amsterdam</td>\n      <td>1097 AE</td>\n      <td>750000.0</td>\n      <td>117</td>\n      <td>1</td>\n      <td>4.927757</td>\n      <td>52.354173</td>\n      <td>13.527828</td>\n    </tr>\n    <tr>\n      <th>916</th>\n      <td>Kleine Beerstraat 31, Amsterdam</td>\n      <td>1033 CP</td>\n      <td>350000.0</td>\n      <td>72</td>\n      <td>3</td>\n      <td>4.890612</td>\n      <td>52.414587</td>\n      <td>12.765688</td>\n    </tr>\n    <tr>\n      <th>917</th>\n      <td>Stuyvesantstraat 33 II, Amsterdam</td>\n      <td>1058 AK</td>\n      <td>350000.0</td>\n      <td>51</td>\n      <td>3</td>\n      <td>4.856935</td>\n      <td>52.363256</td>\n      <td>12.765688</td>\n    </tr>\n    <tr>\n      <th>918</th>\n      <td>John Blankensteinstraat 51, Amsterdam</td>\n      <td>1095 MB</td>\n      <td>599000.0</td>\n      <td>113</td>\n      <td>4</td>\n      <td>4.965731</td>\n      <td>52.375268</td>\n      <td>13.303017</td>\n    </tr>\n    <tr>\n      <th>919</th>\n      <td>S. F. van Ossstraat 334, Amsterdam</td>\n      <td>1068 JS</td>\n      <td>300000.0</td>\n      <td>79</td>\n      <td>4</td>\n      <td>4.810678</td>\n      <td>52.355493</td>\n      <td>12.611538</td>\n    </tr>\n  </tbody>\n</table>\n<p>920 rows × 8 columns</p>\n</div>"
     },
     "execution_count": 52,
     "metadata": {},
     "output_type": "execute_result"
    }
   ],
   "source": [
    "data['log(Price)'] = pd.Series(np.log(data['Price']))\n",
    "data"
   ],
   "metadata": {
    "collapsed": false,
    "pycharm": {
     "name": "#%%\n"
    }
   }
  },
  {
   "cell_type": "markdown",
   "source": [
    "Now, let's look at similar histograms for the Area feature."
   ],
   "metadata": {
    "collapsed": false,
    "pycharm": {
     "name": "#%% md\n"
    }
   }
  },
  {
   "cell_type": "code",
   "execution_count": 53,
   "outputs": [
    {
     "data": {
      "text/plain": "<Figure size 648x576 with 1 Axes>",
      "image/png": "[encoded data removed]"
     },
     "metadata": {
      "needs_background": "light"
     },
     "output_type": "display_data"
    },
    {
     "data": {
      "text/plain": "<Figure size 648x576 with 1 Axes>",
      "image/png": "[encoded data removed]"
     },
     "metadata": {
      "needs_background": "light"
     },
     "output_type": "display_data"
    }
   ],
   "source": [
    "plt.figure(figsize=(9, 8))\n",
    "plt.subplot(2, 1, 1)\n",
    "plt.hist(x=data['Area'], color='#dd5500', edgecolor='black',\n",
    "         bins=np.arange(0, 700, 50))\n",
    "plt.xlabel('Area')\n",
    "plt.ylabel('Frequency')\n",
    "plt.title('Area Histogram')\n",
    "plt.xticks(range(0, 700, 50))\n",
    "plt.yticks(range(0, 600, 100))\n",
    "plt.show()\n",
    "\n",
    "plt.figure(figsize=(9, 8))\n",
    "plt.subplot(2, 1, 2)\n",
    "plt.hist(x=np.log(data['Area']), color='#dd0055', edgecolor='black',\n",
    "         bins=np.arange(3.0, 7.0, 0.25))\n",
    "plt.xlabel('log(Area)')\n",
    "plt.ylabel('Frequency')\n",
    "plt.xticks(np.arange(3.0, 7.0, 0.25))\n",
    "plt.yticks(range(0, 300, 50))\n",
    "plt.title('log(Area) Histogram')\n",
    "plt.show()"
   ],
   "metadata": {
    "collapsed": false,
    "pycharm": {
     "name": "#%%\n"
    }
   }
  },
  {
   "cell_type": "markdown",
   "source": [
    "The Area feature may also follow a power law distribution, as applying a log\n",
    "transformation on the data yielded a distribution that is much more similar to\n",
    "the normal distribution than the raw Area data. Thus, we should also add a log(Area)\n",
    "feature to the data set."
   ],
   "metadata": {
    "collapsed": false,
    "pycharm": {
     "name": "#%% md\n"
    }
   }
  },
  {
   "cell_type": "code",
   "execution_count": 54,
   "outputs": [
    {
     "data": {
      "text/plain": "                                    Address      Zip     Price  Area  Room  \\\n0              Blasiusstraat 8 2, Amsterdam  1091 CR  685000.0    64     3   \n1    Kromme Leimuidenstraat 13 H, Amsterdam  1059 EL  475000.0    60     3   \n2                Zaaiersweg 11 A, Amsterdam  1097 SM  850000.0   109     4   \n3              Tenerifestraat 40, Amsterdam  1060 TH  580000.0   128     6   \n4                Winterjanpad 21, Amsterdam  1036 KN  720000.0   138     5   \n..                                      ...      ...       ...   ...   ...   \n915                     Ringdijk, Amsterdam  1097 AE  750000.0   117     1   \n916         Kleine Beerstraat 31, Amsterdam  1033 CP  350000.0    72     3   \n917       Stuyvesantstraat 33 II, Amsterdam  1058 AK  350000.0    51     3   \n918   John Blankensteinstraat 51, Amsterdam  1095 MB  599000.0   113     4   \n919      S. F. van Ossstraat 334, Amsterdam  1068 JS  300000.0    79     4   \n\n          Lon        Lat  log(Price)  log(Area)  \n0    4.907736  52.356157   13.437174   4.158883  \n1    4.850476  52.348586   13.071070   4.094345  \n2    4.944774  52.343782   13.652992   4.691348  \n3    4.789928  52.343712   13.270783   4.852030  \n4    4.902503  52.410538   13.487006   4.927254  \n..        ...        ...         ...        ...  \n915  4.927757  52.354173   13.527828   4.762174  \n916  4.890612  52.414587   12.765688   4.276666  \n917  4.856935  52.363256   12.765688   3.931826  \n918  4.965731  52.375268   13.303017   4.727388  \n919  4.810678  52.355493   12.611538   4.369448  \n\n[920 rows x 9 columns]",
      "text/html": "<div>\n<style scoped>\n    .dataframe tbody tr th:only-of-type {\n        vertical-align: middle;\n    }\n\n    .dataframe tbody tr th {\n        vertical-align: top;\n    }\n\n    .dataframe thead th {\n        text-align: right;\n    }\n</style>\n<table border=\"1\" class=\"dataframe\">\n  <thead>\n    <tr style=\"text-align: right;\">\n      <th></th>\n      <th>Address</th>\n      <th>Zip</th>\n      <th>Price</th>\n      <th>Area</th>\n      <th>Room</th>\n      <th>Lon</th>\n      <th>Lat</th>\n      <th>log(Price)</th>\n      <th>log(Area)</th>\n    </tr>\n  </thead>\n  <tbody>\n    <tr>\n      <th>0</th>\n      <td>Blasiusstraat 8 2, Amsterdam</td>\n      <td>1091 CR</td>\n      <td>685000.0</td>\n      <td>64</td>\n      <td>3</td>\n      <td>4.907736</td>\n      <td>52.356157</td>\n      <td>13.437174</td>\n      <td>4.158883</td>\n    </tr>\n    <tr>\n      <th>1</th>\n      <td>Kromme Leimuidenstraat 13 H, Amsterdam</td>\n      <td>1059 EL</td>\n      <td>475000.0</td>\n      <td>60</td>\n      <td>3</td>\n      <td>4.850476</td>\n      <td>52.348586</td>\n      <td>13.071070</td>\n      <td>4.094345</td>\n    </tr>\n    <tr>\n      <th>2</th>\n      <td>Zaaiersweg 11 A, Amsterdam</td>\n      <td>1097 SM</td>\n      <td>850000.0</td>\n      <td>109</td>\n      <td>4</td>\n      <td>4.944774</td>\n      <td>52.343782</td>\n      <td>13.652992</td>\n      <td>4.691348</td>\n    </tr>\n    <tr>\n      <th>3</th>\n      <td>Tenerifestraat 40, Amsterdam</td>\n      <td>1060 TH</td>\n      <td>580000.0</td>\n      <td>128</td>\n      <td>6</td>\n      <td>4.789928</td>\n      <td>52.343712</td>\n      <td>13.270783</td>\n      <td>4.852030</td>\n    </tr>\n    <tr>\n      <th>4</th>\n      <td>Winterjanpad 21, Amsterdam</td>\n      <td>1036 KN</td>\n      <td>720000.0</td>\n      <td>138</td>\n      <td>5</td>\n      <td>4.902503</td>\n      <td>52.410538</td>\n      <td>13.487006</td>\n      <td>4.927254</td>\n    </tr>\n    <tr>\n      <th>...</th>\n      <td>...</td>\n      <td>...</td>\n      <td>...</td>\n      <td>...</td>\n      <td>...</td>\n      <td>...</td>\n      <td>...</td>\n      <td>...</td>\n      <td>...</td>\n    </tr>\n    <tr>\n      <th>915</th>\n      <td>Ringdijk, Amsterdam</td>\n      <td>1097 AE</td>\n      <td>750000.0</td>\n      <td>117</td>\n      <td>1</td>\n      <td>4.927757</td>\n      <td>52.354173</td>\n      <td>13.527828</td>\n      <td>4.762174</td>\n    </tr>\n    <tr>\n      <th>916</th>\n      <td>Kleine Beerstraat 31, Amsterdam</td>\n      <td>1033 CP</td>\n      <td>350000.0</td>\n      <td>72</td>\n      <td>3</td>\n      <td>4.890612</td>\n      <td>52.414587</td>\n      <td>12.765688</td>\n      <td>4.276666</td>\n    </tr>\n    <tr>\n      <th>917</th>\n      <td>Stuyvesantstraat 33 II, Amsterdam</td>\n      <td>1058 AK</td>\n      <td>350000.0</td>\n      <td>51</td>\n      <td>3</td>\n      <td>4.856935</td>\n      <td>52.363256</td>\n      <td>12.765688</td>\n      <td>3.931826</td>\n    </tr>\n    <tr>\n      <th>918</th>\n      <td>John Blankensteinstraat 51, Amsterdam</td>\n      <td>1095 MB</td>\n      <td>599000.0</td>\n      <td>113</td>\n      <td>4</td>\n      <td>4.965731</td>\n      <td>52.375268</td>\n      <td>13.303017</td>\n      <td>4.727388</td>\n    </tr>\n    <tr>\n      <th>919</th>\n      <td>S. F. van Ossstraat 334, Amsterdam</td>\n      <td>1068 JS</td>\n      <td>300000.0</td>\n      <td>79</td>\n      <td>4</td>\n      <td>4.810678</td>\n      <td>52.355493</td>\n      <td>12.611538</td>\n      <td>4.369448</td>\n    </tr>\n  </tbody>\n</table>\n<p>920 rows × 9 columns</p>\n</div>"
     },
     "execution_count": 54,
     "metadata": {},
     "output_type": "execute_result"
    }
   ],
   "source": [
    "data['log(Area)'] = pd.Series(np.log(data['Area']))\n",
    "data"
   ],
   "metadata": {
    "collapsed": false,
    "pycharm": {
     "name": "#%%\n"
    }
   }
  },
  {
   "cell_type": "markdown",
   "source": [
    "Now, let's repeat this histogram step for the Room feature."
   ],
   "metadata": {
    "collapsed": false,
    "pycharm": {
     "name": "#%% md\n"
    }
   }
  },
  {
   "cell_type": "code",
   "execution_count": 55,
   "outputs": [
    {
     "data": {
      "text/plain": "<Figure size 648x576 with 1 Axes>",
      "image/png": "[encoded data removed]"
     },
     "metadata": {
      "needs_background": "light"
     },
     "output_type": "display_data"
    },
    {
     "data": {
      "text/plain": "<Figure size 648x576 with 1 Axes>",
      "image/png": "[encoded data removed]"
     },
     "metadata": {
      "needs_background": "light"
     },
     "output_type": "display_data"
    }
   ],
   "source": [
    "plt.figure(figsize=(9, 8))\n",
    "plt.subplot(2, 1, 1)\n",
    "plt.hist(x=data['Room'], color='#dd55dd', edgecolor='black',\n",
    "         bins=np.arange(0, 15, 1))\n",
    "plt.xlabel('Room')\n",
    "plt.ylabel('Frequency')\n",
    "plt.title('Room Histogram')\n",
    "plt.xticks(range(0, 15, 1))\n",
    "plt.yticks(range(0, 500, 100))\n",
    "plt.show()\n",
    "\n",
    "plt.figure(figsize=(9, 8))\n",
    "plt.subplot(2, 1, 2)\n",
    "plt.hist(x=np.log(data['Room']), color='#55dddd', edgecolor='black',\n",
    "         bins=np.arange(0.0, 3.5, 0.25))\n",
    "plt.xlabel('log(Room)')\n",
    "plt.ylabel('Frequency')\n",
    "plt.title('log(Room) Histogram')\n",
    "plt.xticks(np.arange(0.0, 3.5, 0.5))\n",
    "plt.yticks(range(0, 400, 50))\n",
    "plt.show()"
   ],
   "metadata": {
    "collapsed": false,
    "pycharm": {
     "name": "#%%\n"
    }
   }
  },
  {
   "cell_type": "markdown",
   "source": [
    "In this case, the log(Room) histogram doesn't seem too much different in shape\n",
    "from the raw Room data histogram, with the exception that the log histogram seems to\n",
    "be less spread out. Also, the raw Room data has much less of a spread than the previous\n",
    "two features we worked with. Thus, it might not be beneficial to any future models we create\n",
    "to include log(Room) in our data.\n",
    "\n",
    "Now, we should create a heatmap to help us uncover any further relationships present\n",
    "in our data set."
   ],
   "metadata": {
    "collapsed": false,
    "pycharm": {
     "name": "#%% md\n"
    }
   }
  },
  {
   "cell_type": "code",
   "execution_count": 56,
   "outputs": [
    {
     "data": {
      "text/plain": "<Figure size 432x432 with 2 Axes>",
      "image/png": "[encoded data removed]"
     },
     "metadata": {
      "needs_background": "light"
     },
     "output_type": "display_data"
    }
   ],
   "source": [
    "plt.figure(figsize=(6, 6))\n",
    "sns.heatmap(data.corr(method='pearson'), annot=True, fmt='.1g')\n",
    "plt.title('Data Pearson Correlation Heatmap')\n",
    "plt.show()"
   ],
   "metadata": {
    "collapsed": false,
    "pycharm": {
     "name": "#%%\n"
    }
   }
  },
  {
   "cell_type": "markdown",
   "source": [
    "If we want to predict the price of a house/property in Amsterdam, then\n",
    "it seems like the most relevant features are Area, Room, and log(Area).\n",
    "We should test this observation by constructing regression models to predict\n",
    "housing prices based on these features.\n",
    "\n",
    "Let's start by splitting our data into training data and testing data."
   ],
   "metadata": {
    "collapsed": false,
    "pycharm": {
     "name": "#%% md\n"
    }
   }
  },
  {
   "cell_type": "code",
   "execution_count": 57,
   "outputs": [
    {
     "data": {
      "text/plain": "                                    Address      Zip  Area  Room       Lon  \\\n0              Blasiusstraat 8 2, Amsterdam  1091 CR    64     3  4.907736   \n1    Kromme Leimuidenstraat 13 H, Amsterdam  1059 EL    60     3  4.850476   \n2                Zaaiersweg 11 A, Amsterdam  1097 SM   109     4  4.944774   \n3              Tenerifestraat 40, Amsterdam  1060 TH   128     6  4.789928   \n4                Winterjanpad 21, Amsterdam  1036 KN   138     5  4.902503   \n..                                      ...      ...   ...   ...       ...   \n915                     Ringdijk, Amsterdam  1097 AE   117     1  4.927757   \n916         Kleine Beerstraat 31, Amsterdam  1033 CP    72     3  4.890612   \n917       Stuyvesantstraat 33 II, Amsterdam  1058 AK    51     3  4.856935   \n918   John Blankensteinstraat 51, Amsterdam  1095 MB   113     4  4.965731   \n919      S. F. van Ossstraat 334, Amsterdam  1068 JS    79     4  4.810678   \n\n           Lat  log(Area)  \n0    52.356157   4.158883  \n1    52.348586   4.094345  \n2    52.343782   4.691348  \n3    52.343712   4.852030  \n4    52.410538   4.927254  \n..         ...        ...  \n915  52.354173   4.762174  \n916  52.414587   4.276666  \n917  52.363256   3.931826  \n918  52.375268   4.727388  \n919  52.355493   4.369448  \n\n[920 rows x 7 columns]",
      "text/html": "<div>\n<style scoped>\n    .dataframe tbody tr th:only-of-type {\n        vertical-align: middle;\n    }\n\n    .dataframe tbody tr th {\n        vertical-align: top;\n    }\n\n    .dataframe thead th {\n        text-align: right;\n    }\n</style>\n<table border=\"1\" class=\"dataframe\">\n  <thead>\n    <tr style=\"text-align: right;\">\n      <th></th>\n      <th>Address</th>\n      <th>Zip</th>\n      <th>Area</th>\n      <th>Room</th>\n      <th>Lon</th>\n      <th>Lat</th>\n      <th>log(Area)</th>\n    </tr>\n  </thead>\n  <tbody>\n    <tr>\n      <th>0</th>\n      <td>Blasiusstraat 8 2, Amsterdam</td>\n      <td>1091 CR</td>\n      <td>64</td>\n      <td>3</td>\n      <td>4.907736</td>\n      <td>52.356157</td>\n      <td>4.158883</td>\n    </tr>\n    <tr>\n      <th>1</th>\n      <td>Kromme Leimuidenstraat 13 H, Amsterdam</td>\n      <td>1059 EL</td>\n      <td>60</td>\n      <td>3</td>\n      <td>4.850476</td>\n      <td>52.348586</td>\n      <td>4.094345</td>\n    </tr>\n    <tr>\n      <th>2</th>\n      <td>Zaaiersweg 11 A, Amsterdam</td>\n      <td>1097 SM</td>\n      <td>109</td>\n      <td>4</td>\n      <td>4.944774</td>\n      <td>52.343782</td>\n      <td>4.691348</td>\n    </tr>\n    <tr>\n      <th>3</th>\n      <td>Tenerifestraat 40, Amsterdam</td>\n      <td>1060 TH</td>\n      <td>128</td>\n      <td>6</td>\n      <td>4.789928</td>\n      <td>52.343712</td>\n      <td>4.852030</td>\n    </tr>\n    <tr>\n      <th>4</th>\n      <td>Winterjanpad 21, Amsterdam</td>\n      <td>1036 KN</td>\n      <td>138</td>\n      <td>5</td>\n      <td>4.902503</td>\n      <td>52.410538</td>\n      <td>4.927254</td>\n    </tr>\n    <tr>\n      <th>...</th>\n      <td>...</td>\n      <td>...</td>\n      <td>...</td>\n      <td>...</td>\n      <td>...</td>\n      <td>...</td>\n      <td>...</td>\n    </tr>\n    <tr>\n      <th>915</th>\n      <td>Ringdijk, Amsterdam</td>\n      <td>1097 AE</td>\n      <td>117</td>\n      <td>1</td>\n      <td>4.927757</td>\n      <td>52.354173</td>\n      <td>4.762174</td>\n    </tr>\n    <tr>\n      <th>916</th>\n      <td>Kleine Beerstraat 31, Amsterdam</td>\n      <td>1033 CP</td>\n      <td>72</td>\n      <td>3</td>\n      <td>4.890612</td>\n      <td>52.414587</td>\n      <td>4.276666</td>\n    </tr>\n    <tr>\n      <th>917</th>\n      <td>Stuyvesantstraat 33 II, Amsterdam</td>\n      <td>1058 AK</td>\n      <td>51</td>\n      <td>3</td>\n      <td>4.856935</td>\n      <td>52.363256</td>\n      <td>3.931826</td>\n    </tr>\n    <tr>\n      <th>918</th>\n      <td>John Blankensteinstraat 51, Amsterdam</td>\n      <td>1095 MB</td>\n      <td>113</td>\n      <td>4</td>\n      <td>4.965731</td>\n      <td>52.375268</td>\n      <td>4.727388</td>\n    </tr>\n    <tr>\n      <th>919</th>\n      <td>S. F. van Ossstraat 334, Amsterdam</td>\n      <td>1068 JS</td>\n      <td>79</td>\n      <td>4</td>\n      <td>4.810678</td>\n      <td>52.355493</td>\n      <td>4.369448</td>\n    </tr>\n  </tbody>\n</table>\n<p>920 rows × 7 columns</p>\n</div>"
     },
     "execution_count": 57,
     "metadata": {},
     "output_type": "execute_result"
    }
   ],
   "source": [
    "# store non-Price related data in its own variable...\n",
    "X = data.iloc[:, [0, 1, 3, 4, 5, 6, 8]]\n",
    "X"
   ],
   "metadata": {
    "collapsed": false,
    "pycharm": {
     "name": "#%%\n"
    }
   }
  },
  {
   "cell_type": "code",
   "execution_count": 58,
   "outputs": [
    {
     "data": {
      "text/plain": "        Price\n0    685000.0\n1    475000.0\n2    850000.0\n3    580000.0\n4    720000.0\n..        ...\n915  750000.0\n916  350000.0\n917  350000.0\n918  599000.0\n919  300000.0\n\n[920 rows x 1 columns]",
      "text/html": "<div>\n<style scoped>\n    .dataframe tbody tr th:only-of-type {\n        vertical-align: middle;\n    }\n\n    .dataframe tbody tr th {\n        vertical-align: top;\n    }\n\n    .dataframe thead th {\n        text-align: right;\n    }\n</style>\n<table border=\"1\" class=\"dataframe\">\n  <thead>\n    <tr style=\"text-align: right;\">\n      <th></th>\n      <th>Price</th>\n    </tr>\n  </thead>\n  <tbody>\n    <tr>\n      <th>0</th>\n      <td>685000.0</td>\n    </tr>\n    <tr>\n      <th>1</th>\n      <td>475000.0</td>\n    </tr>\n    <tr>\n      <th>2</th>\n      <td>850000.0</td>\n    </tr>\n    <tr>\n      <th>3</th>\n      <td>580000.0</td>\n    </tr>\n    <tr>\n      <th>4</th>\n      <td>720000.0</td>\n    </tr>\n    <tr>\n      <th>...</th>\n      <td>...</td>\n    </tr>\n    <tr>\n      <th>915</th>\n      <td>750000.0</td>\n    </tr>\n    <tr>\n      <th>916</th>\n      <td>350000.0</td>\n    </tr>\n    <tr>\n      <th>917</th>\n      <td>350000.0</td>\n    </tr>\n    <tr>\n      <th>918</th>\n      <td>599000.0</td>\n    </tr>\n    <tr>\n      <th>919</th>\n      <td>300000.0</td>\n    </tr>\n  </tbody>\n</table>\n<p>920 rows × 1 columns</p>\n</div>"
     },
     "execution_count": 58,
     "metadata": {},
     "output_type": "execute_result"
    }
   ],
   "source": [
    "# store target Price related data in own variables...\n",
    "y = data.iloc[:, [2]]\n",
    "y"
   ],
   "metadata": {
    "collapsed": false,
    "pycharm": {
     "name": "#%%\n"
    }
   }
  },
  {
   "cell_type": "code",
   "execution_count": 59,
   "outputs": [],
   "source": [
    "# use scikit-learn train_test_split function to split data\n",
    "# into training and testing data sets...\n",
    "X_train, X_test, y_train, y_test = ms.train_test_split(X, y, test_size=0.25, random_state=0)"
   ],
   "metadata": {
    "collapsed": false,
    "pycharm": {
     "name": "#%%\n"
    }
   }
  },
  {
   "cell_type": "code",
   "execution_count": 60,
   "outputs": [
    {
     "data": {
      "text/plain": "                                      Address      Zip  Area  Room       Lon  \\\n279                     Amstel 102, Amsterdam  1017 AD   150     6  4.896842   \n451         Joop Gerritzestraat 14, Amsterdam  1063 EK   113     6  4.830151   \n39    C.J.K. van Aalststraat 94 PP, Amsterdam  1019 JX   163     6  4.937040   \n557             Beemsterstraat 517, Amsterdam  1024 BE   122     5  4.950277   \n548          Kolfschotenstraat 154, Amsterdam  1104 PC    83     4  4.969802   \n..                                        ...      ...   ...   ...       ...   \n835            Hertspieghelweg 6 I, Amsterdam  1055 KL    59     3  4.852415   \n192  Gerrit van der Veenstraat 134, Amsterdam  1077 ES   154     4  4.867645   \n629                  Funenpark 349, Amsterdam  1018 AK   101     4  4.931075   \n559       Willem Kromhoutstraat 17, Amsterdam  1067 RC    77     4  4.795007   \n684             Blasiusstraat 13 1, Amsterdam  1091 CJ    52     2  4.908012   \n\n           Lat  log(Area)  \n279  52.366965   5.010635  \n451  52.383526   4.727388  \n39   52.373016   5.093750  \n557  52.396263   4.804021  \n548  52.316702   4.418841  \n..         ...        ...  \n835  52.380133   4.077537  \n192  52.348806   5.036953  \n629  52.369038   4.615121  \n559  52.375474   4.343805  \n684  52.356419   3.951244  \n\n[690 rows x 7 columns]",
      "text/html": "<div>\n<style scoped>\n    .dataframe tbody tr th:only-of-type {\n        vertical-align: middle;\n    }\n\n    .dataframe tbody tr th {\n        vertical-align: top;\n    }\n\n    .dataframe thead th {\n        text-align: right;\n    }\n</style>\n<table border=\"1\" class=\"dataframe\">\n  <thead>\n    <tr style=\"text-align: right;\">\n      <th></th>\n      <th>Address</th>\n      <th>Zip</th>\n      <th>Area</th>\n      <th>Room</th>\n      <th>Lon</th>\n      <th>Lat</th>\n      <th>log(Area)</th>\n    </tr>\n  </thead>\n  <tbody>\n    <tr>\n      <th>279</th>\n      <td>Amstel 102, Amsterdam</td>\n      <td>1017 AD</td>\n      <td>150</td>\n      <td>6</td>\n      <td>4.896842</td>\n      <td>52.366965</td>\n      <td>5.010635</td>\n    </tr>\n    <tr>\n      <th>451</th>\n      <td>Joop Gerritzestraat 14, Amsterdam</td>\n      <td>1063 EK</td>\n      <td>113</td>\n      <td>6</td>\n      <td>4.830151</td>\n      <td>52.383526</td>\n      <td>4.727388</td>\n    </tr>\n    <tr>\n      <th>39</th>\n      <td>C.J.K. van Aalststraat 94 PP, Amsterdam</td>\n      <td>1019 JX</td>\n      <td>163</td>\n      <td>6</td>\n      <td>4.937040</td>\n      <td>52.373016</td>\n      <td>5.093750</td>\n    </tr>\n    <tr>\n      <th>557</th>\n      <td>Beemsterstraat 517, Amsterdam</td>\n      <td>1024 BE</td>\n      <td>122</td>\n      <td>5</td>\n      <td>4.950277</td>\n      <td>52.396263</td>\n      <td>4.804021</td>\n    </tr>\n    <tr>\n      <th>548</th>\n      <td>Kolfschotenstraat 154, Amsterdam</td>\n      <td>1104 PC</td>\n      <td>83</td>\n      <td>4</td>\n      <td>4.969802</td>\n      <td>52.316702</td>\n      <td>4.418841</td>\n    </tr>\n    <tr>\n      <th>...</th>\n      <td>...</td>\n      <td>...</td>\n      <td>...</td>\n      <td>...</td>\n      <td>...</td>\n      <td>...</td>\n      <td>...</td>\n    </tr>\n    <tr>\n      <th>835</th>\n      <td>Hertspieghelweg 6 I, Amsterdam</td>\n      <td>1055 KL</td>\n      <td>59</td>\n      <td>3</td>\n      <td>4.852415</td>\n      <td>52.380133</td>\n      <td>4.077537</td>\n    </tr>\n    <tr>\n      <th>192</th>\n      <td>Gerrit van der Veenstraat 134, Amsterdam</td>\n      <td>1077 ES</td>\n      <td>154</td>\n      <td>4</td>\n      <td>4.867645</td>\n      <td>52.348806</td>\n      <td>5.036953</td>\n    </tr>\n    <tr>\n      <th>629</th>\n      <td>Funenpark 349, Amsterdam</td>\n      <td>1018 AK</td>\n      <td>101</td>\n      <td>4</td>\n      <td>4.931075</td>\n      <td>52.369038</td>\n      <td>4.615121</td>\n    </tr>\n    <tr>\n      <th>559</th>\n      <td>Willem Kromhoutstraat 17, Amsterdam</td>\n      <td>1067 RC</td>\n      <td>77</td>\n      <td>4</td>\n      <td>4.795007</td>\n      <td>52.375474</td>\n      <td>4.343805</td>\n    </tr>\n    <tr>\n      <th>684</th>\n      <td>Blasiusstraat 13 1, Amsterdam</td>\n      <td>1091 CJ</td>\n      <td>52</td>\n      <td>2</td>\n      <td>4.908012</td>\n      <td>52.356419</td>\n      <td>3.951244</td>\n    </tr>\n  </tbody>\n</table>\n<p>690 rows × 7 columns</p>\n</div>"
     },
     "execution_count": 60,
     "metadata": {},
     "output_type": "execute_result"
    }
   ],
   "source": [
    "# view X_train...\n",
    "X_train"
   ],
   "metadata": {
    "collapsed": false,
    "pycharm": {
     "name": "#%%\n"
    }
   }
  },
  {
   "cell_type": "code",
   "execution_count": 61,
   "outputs": [
    {
     "data": {
      "text/plain": "                                               Address      Zip  Area  Room  \\\n306                         Termietergouw 6, Amsterdam  1027 AD    95     3   \n711  Eerste Jacob van Campenstraat 54 III-IV, Amste...  1072 BH   127     4   \n298                         Pontsteiger 137, Amsterdam  1014 ZP    94     1   \n466                 Alfred Döblinstraat 109, Amsterdam  1102 VJ    71     3   \n253                        Bakkersstraat 11, Amsterdam  1017 CW    81     3   \n..                                                 ...      ...   ...   ...   \n352                      Blauwvoetstraat 59, Amsterdam  1061 BM    39     2   \n172                        Westerstraat 268, Amsterdam  1015 MT   109     4   \n479                     Amazonenstraat 20 1, Amsterdam  1076 LJ    54     2   \n330                  Bernard Shawsingel 250, Amsterdam  1102 VE    60     3   \n529                       Winthontstraat 28, Amsterdam  1013 BR    69     3   \n\n          Lon        Lat  log(Area)  \n306  4.960756  52.409584   4.553877  \n711  4.889858  52.357323   4.844187  \n298  4.886388  52.393577   4.543295  \n466  4.943523  52.319589   4.262680  \n253  4.897432  52.366729   4.394449  \n..        ...        ...        ...  \n352  4.839165  52.377010   3.663562  \n172  4.879612  52.377871   4.691348  \n479  4.862373  52.345315   3.988984  \n330  4.945909  52.320409   4.094345  \n529  4.892282  52.384356   4.234107  \n\n[230 rows x 7 columns]",
      "text/html": "<div>\n<style scoped>\n    .dataframe tbody tr th:only-of-type {\n        vertical-align: middle;\n    }\n\n    .dataframe tbody tr th {\n        vertical-align: top;\n    }\n\n    .dataframe thead th {\n        text-align: right;\n    }\n</style>\n<table border=\"1\" class=\"dataframe\">\n  <thead>\n    <tr style=\"text-align: right;\">\n      <th></th>\n      <th>Address</th>\n      <th>Zip</th>\n      <th>Area</th>\n      <th>Room</th>\n      <th>Lon</th>\n      <th>Lat</th>\n      <th>log(Area)</th>\n    </tr>\n  </thead>\n  <tbody>\n    <tr>\n      <th>306</th>\n      <td>Termietergouw 6, Amsterdam</td>\n      <td>1027 AD</td>\n      <td>95</td>\n      <td>3</td>\n      <td>4.960756</td>\n      <td>52.409584</td>\n      <td>4.553877</td>\n    </tr>\n    <tr>\n      <th>711</th>\n      <td>Eerste Jacob van Campenstraat 54 III-IV, Amste...</td>\n      <td>1072 BH</td>\n      <td>127</td>\n      <td>4</td>\n      <td>4.889858</td>\n      <td>52.357323</td>\n      <td>4.844187</td>\n    </tr>\n    <tr>\n      <th>298</th>\n      <td>Pontsteiger 137, Amsterdam</td>\n      <td>1014 ZP</td>\n      <td>94</td>\n      <td>1</td>\n      <td>4.886388</td>\n      <td>52.393577</td>\n      <td>4.543295</td>\n    </tr>\n    <tr>\n      <th>466</th>\n      <td>Alfred Döblinstraat 109, Amsterdam</td>\n      <td>1102 VJ</td>\n      <td>71</td>\n      <td>3</td>\n      <td>4.943523</td>\n      <td>52.319589</td>\n      <td>4.262680</td>\n    </tr>\n    <tr>\n      <th>253</th>\n      <td>Bakkersstraat 11, Amsterdam</td>\n      <td>1017 CW</td>\n      <td>81</td>\n      <td>3</td>\n      <td>4.897432</td>\n      <td>52.366729</td>\n      <td>4.394449</td>\n    </tr>\n    <tr>\n      <th>...</th>\n      <td>...</td>\n      <td>...</td>\n      <td>...</td>\n      <td>...</td>\n      <td>...</td>\n      <td>...</td>\n      <td>...</td>\n    </tr>\n    <tr>\n      <th>352</th>\n      <td>Blauwvoetstraat 59, Amsterdam</td>\n      <td>1061 BM</td>\n      <td>39</td>\n      <td>2</td>\n      <td>4.839165</td>\n      <td>52.377010</td>\n      <td>3.663562</td>\n    </tr>\n    <tr>\n      <th>172</th>\n      <td>Westerstraat 268, Amsterdam</td>\n      <td>1015 MT</td>\n      <td>109</td>\n      <td>4</td>\n      <td>4.879612</td>\n      <td>52.377871</td>\n      <td>4.691348</td>\n    </tr>\n    <tr>\n      <th>479</th>\n      <td>Amazonenstraat 20 1, Amsterdam</td>\n      <td>1076 LJ</td>\n      <td>54</td>\n      <td>2</td>\n      <td>4.862373</td>\n      <td>52.345315</td>\n      <td>3.988984</td>\n    </tr>\n    <tr>\n      <th>330</th>\n      <td>Bernard Shawsingel 250, Amsterdam</td>\n      <td>1102 VE</td>\n      <td>60</td>\n      <td>3</td>\n      <td>4.945909</td>\n      <td>52.320409</td>\n      <td>4.094345</td>\n    </tr>\n    <tr>\n      <th>529</th>\n      <td>Winthontstraat 28, Amsterdam</td>\n      <td>1013 BR</td>\n      <td>69</td>\n      <td>3</td>\n      <td>4.892282</td>\n      <td>52.384356</td>\n      <td>4.234107</td>\n    </tr>\n  </tbody>\n</table>\n<p>230 rows × 7 columns</p>\n</div>"
     },
     "execution_count": 61,
     "metadata": {},
     "output_type": "execute_result"
    }
   ],
   "source": [
    "# view X_test...\n",
    "X_test"
   ],
   "metadata": {
    "collapsed": false,
    "pycharm": {
     "name": "#%%\n"
    }
   }
  },
  {
   "cell_type": "code",
   "execution_count": 62,
   "outputs": [
    {
     "data": {
      "text/plain": "         Price\n279  2325000.0\n451   500000.0\n39    895000.0\n557   525000.0\n548   260000.0\n..         ...\n835   375000.0\n192  1295000.0\n629   725000.0\n559   380000.0\n684   400000.0\n\n[690 rows x 1 columns]",
      "text/html": "<div>\n<style scoped>\n    .dataframe tbody tr th:only-of-type {\n        vertical-align: middle;\n    }\n\n    .dataframe tbody tr th {\n        vertical-align: top;\n    }\n\n    .dataframe thead th {\n        text-align: right;\n    }\n</style>\n<table border=\"1\" class=\"dataframe\">\n  <thead>\n    <tr style=\"text-align: right;\">\n      <th></th>\n      <th>Price</th>\n    </tr>\n  </thead>\n  <tbody>\n    <tr>\n      <th>279</th>\n      <td>2325000.0</td>\n    </tr>\n    <tr>\n      <th>451</th>\n      <td>500000.0</td>\n    </tr>\n    <tr>\n      <th>39</th>\n      <td>895000.0</td>\n    </tr>\n    <tr>\n      <th>557</th>\n      <td>525000.0</td>\n    </tr>\n    <tr>\n      <th>548</th>\n      <td>260000.0</td>\n    </tr>\n    <tr>\n      <th>...</th>\n      <td>...</td>\n    </tr>\n    <tr>\n      <th>835</th>\n      <td>375000.0</td>\n    </tr>\n    <tr>\n      <th>192</th>\n      <td>1295000.0</td>\n    </tr>\n    <tr>\n      <th>629</th>\n      <td>725000.0</td>\n    </tr>\n    <tr>\n      <th>559</th>\n      <td>380000.0</td>\n    </tr>\n    <tr>\n      <th>684</th>\n      <td>400000.0</td>\n    </tr>\n  </tbody>\n</table>\n<p>690 rows × 1 columns</p>\n</div>"
     },
     "execution_count": 62,
     "metadata": {},
     "output_type": "execute_result"
    }
   ],
   "source": [
    "# view y_train...\n",
    "y_train"
   ],
   "metadata": {
    "collapsed": false,
    "pycharm": {
     "name": "#%%\n"
    }
   }
  },
  {
   "cell_type": "code",
   "execution_count": 63,
   "outputs": [
    {
     "data": {
      "text/plain": "        Price\n306  895000.0\n711  995000.0\n298  950000.0\n466  265000.0\n253  650000.0\n..        ...\n352  275000.0\n172  950000.0\n479  415000.0\n330  250000.0\n529  525000.0\n\n[230 rows x 1 columns]",
      "text/html": "<div>\n<style scoped>\n    .dataframe tbody tr th:only-of-type {\n        vertical-align: middle;\n    }\n\n    .dataframe tbody tr th {\n        vertical-align: top;\n    }\n\n    .dataframe thead th {\n        text-align: right;\n    }\n</style>\n<table border=\"1\" class=\"dataframe\">\n  <thead>\n    <tr style=\"text-align: right;\">\n      <th></th>\n      <th>Price</th>\n    </tr>\n  </thead>\n  <tbody>\n    <tr>\n      <th>306</th>\n      <td>895000.0</td>\n    </tr>\n    <tr>\n      <th>711</th>\n      <td>995000.0</td>\n    </tr>\n    <tr>\n      <th>298</th>\n      <td>950000.0</td>\n    </tr>\n    <tr>\n      <th>466</th>\n      <td>265000.0</td>\n    </tr>\n    <tr>\n      <th>253</th>\n      <td>650000.0</td>\n    </tr>\n    <tr>\n      <th>...</th>\n      <td>...</td>\n    </tr>\n    <tr>\n      <th>352</th>\n      <td>275000.0</td>\n    </tr>\n    <tr>\n      <th>172</th>\n      <td>950000.0</td>\n    </tr>\n    <tr>\n      <th>479</th>\n      <td>415000.0</td>\n    </tr>\n    <tr>\n      <th>330</th>\n      <td>250000.0</td>\n    </tr>\n    <tr>\n      <th>529</th>\n      <td>525000.0</td>\n    </tr>\n  </tbody>\n</table>\n<p>230 rows × 1 columns</p>\n</div>"
     },
     "execution_count": 63,
     "metadata": {},
     "output_type": "execute_result"
    }
   ],
   "source": [
    "# view y_test...\n",
    "y_test"
   ],
   "metadata": {
    "collapsed": false,
    "pycharm": {
     "name": "#%%\n"
    }
   }
  },
  {
   "cell_type": "markdown",
   "source": [
    "First, we should create a baseline model that we can use for benchmarking. Let's\n",
    "use only the Area feature in this simple model."
   ],
   "metadata": {
    "collapsed": false,
    "pycharm": {
     "name": "#%% md\n"
    }
   }
  },
  {
   "cell_type": "code",
   "execution_count": 64,
   "outputs": [],
   "source": [
    "# only include Area feature in variables for basic regression model...\n",
    "X_train_basic = np.array(X_train['Area']).reshape(-1, 1)\n",
    "X_test_basic = np.array(X_test['Area']).reshape(-1, 1)\n",
    "y_train = np.array(y_train)\n",
    "y_test = np.array(y_test)"
   ],
   "metadata": {
    "collapsed": false,
    "pycharm": {
     "name": "#%%\n"
    }
   }
  },
  {
   "cell_type": "code",
   "execution_count": 65,
   "outputs": [
    {
     "data": {
      "text/plain": "LinearRegression()"
     },
     "execution_count": 65,
     "metadata": {},
     "output_type": "execute_result"
    }
   ],
   "source": [
    "# create basic regression model...\n",
    "basic_reg = lm.LinearRegression()\n",
    "basic_reg.fit(X_train_basic, y_train)"
   ],
   "metadata": {
    "collapsed": false,
    "pycharm": {
     "name": "#%%\n"
    }
   }
  },
  {
   "cell_type": "code",
   "execution_count": 66,
   "outputs": [
    {
     "name": "stdout",
     "output_type": "stream",
     "text": [
      "R2 Score for Basic Regression: 0.736\n"
     ]
    }
   ],
   "source": [
    "# use basic model to generate predictions for Price, then determine R2 score...\n",
    "y_pred_basic = basic_reg.predict(X_test_basic)\n",
    "r2_basic_reg = round(met.r2_score(y_test, y_pred_basic), 4)\n",
    "print(f'R2 Score for Basic Regression: {r2_basic_reg}')"
   ],
   "metadata": {
    "collapsed": false,
    "pycharm": {
     "name": "#%%\n"
    }
   }
  },
  {
   "cell_type": "code",
   "execution_count": 67,
   "outputs": [
    {
     "data": {
      "text/plain": "<Figure size 648x648 with 1 Axes>",
      "image/png": "[encoded data removed]"
     },
     "metadata": {
      "needs_background": "light"
     },
     "output_type": "display_data"
    }
   ],
   "source": [
    "# graph basic model...\n",
    "plt.figure(figsize=(9, 9))\n",
    "plt.scatter(X_test_basic, y_test, color='black')\n",
    "plt.plot(X_test_basic, y_pred_basic, color='red',\n",
    "         lw=2, label=f'Basic Regression Line, R2 = {r2_basic_reg}')\n",
    "plt.ylabel('Price')\n",
    "plt.xlabel('Area')\n",
    "plt.title('Basic Regression Model Graph')\n",
    "plt.xticks(np.arange(0, round(np.max(X_test_basic) + (np.max(X_test_basic) / 10), 2), round(np.max(X_test_basic) / 10, 4)))\n",
    "plt.yticks(np.arange(0, round(np.maximum(np.max(y_test) + (np.max(y_test) / 10),\n",
    "                                         np.max(y_pred_basic) + (np.max(y_pred_basic) / 10)), 2),\n",
    "                     round(np.maximum(np.max(y_test) / 10, np.max(y_pred_basic) / 10), 4)))\n",
    "plt.legend()\n",
    "plt.show()"
   ],
   "metadata": {
    "collapsed": false,
    "pycharm": {
     "name": "#%%\n"
    }
   }
  },
  {
   "cell_type": "markdown",
   "source": [
    "Now, let's create a multivariable regression model that uses\n",
    "the Area and Room features."
   ],
   "metadata": {
    "collapsed": false,
    "pycharm": {
     "name": "#%% md\n"
    }
   }
  },
  {
   "cell_type": "code",
   "execution_count": 68,
   "outputs": [],
   "source": [
    "# include Area and Room features as variables in for\n",
    "# multivariable regression model...\n",
    "X_train_multi = np.array(X_train[['Area', 'Room']])\n",
    "X_test_multi = np.array(X_test[['Area', 'Room']])"
   ],
   "metadata": {
    "collapsed": false,
    "pycharm": {
     "name": "#%%\n"
    }
   }
  },
  {
   "cell_type": "code",
   "execution_count": 69,
   "outputs": [
    {
     "data": {
      "text/plain": "LinearRegression()"
     },
     "execution_count": 69,
     "metadata": {},
     "output_type": "execute_result"
    }
   ],
   "source": [
    "# create multivariable regression model and fit...\n",
    "multi_reg = lm.LinearRegression()\n",
    "multi_reg.fit(X_train_multi, y_train)\n"
   ],
   "metadata": {
    "collapsed": false,
    "pycharm": {
     "name": "#%%\n"
    }
   }
  },
  {
   "cell_type": "code",
   "execution_count": 70,
   "outputs": [
    {
     "name": "stdout",
     "output_type": "stream",
     "text": [
      "R2 Score for Multivariable Regression: 0.74\n"
     ]
    }
   ],
   "source": [
    "# use multivariable model to generate predictions for Price, then determine R2 score...\n",
    "y_pred_multi = multi_reg.predict(X_test_multi)\n",
    "r2_multi_reg = round(met.r2_score(y_test, y_pred_multi), 4)\n",
    "print(f'R2 Score for Multivariable Regression: {r2_multi_reg}')"
   ],
   "metadata": {
    "collapsed": false,
    "pycharm": {
     "name": "#%%\n"
    }
   }
  },
  {
   "cell_type": "markdown",
   "source": [
    "It seems like our multivariable regression model doesn't do much\n",
    "better than the basic model. Therefore, in accordance with Occam's Razor,\n",
    "we reject the more complex model in favor of the simpler model considering the\n",
    "lack of improvement shown in the complex model.\n",
    "\n",
    "However, we haven't tested any models with the log(Price) feature\n",
    "that we engineered earlier. Let's try to use the basic model to do this."
   ],
   "metadata": {
    "collapsed": false,
    "pycharm": {
     "name": "#%% md\n"
    }
   }
  },
  {
   "cell_type": "code",
   "execution_count": 71,
   "outputs": [],
   "source": [
    "# log-transform the target Price data...\n",
    "y_log_train = np.log(y_train)\n",
    "y_log_test = np.log(y_test)"
   ],
   "metadata": {
    "collapsed": false,
    "pycharm": {
     "name": "#%%\n"
    }
   }
  },
  {
   "cell_type": "code",
   "execution_count": 72,
   "outputs": [
    {
     "data": {
      "text/plain": "LinearRegression()"
     },
     "execution_count": 72,
     "metadata": {},
     "output_type": "execute_result"
    }
   ],
   "source": [
    "# create log basic model and fit...\n",
    "log_basic_reg = lm.LinearRegression()\n",
    "log_basic_reg.fit(X_train_basic, y_log_train)"
   ],
   "metadata": {
    "collapsed": false,
    "pycharm": {
     "name": "#%%\n"
    }
   }
  },
  {
   "cell_type": "code",
   "execution_count": 73,
   "outputs": [
    {
     "name": "stdout",
     "output_type": "stream",
     "text": [
      "R2 Score for Log Basic Regression Model: 0.6519\n"
     ]
    }
   ],
   "source": [
    "# use log basic model to generate predictions for log(Price), then determine R2 score...\n",
    "y_pred_log_basic = log_basic_reg.predict(X_test_basic)\n",
    "r2_log_basic_reg = met.r2_score(y_log_test, y_pred_log_basic)\n",
    "print(f'R2 Score for Log Basic Regression Model: {round(r2_log_basic_reg, 4)}')"
   ],
   "metadata": {
    "collapsed": false,
    "pycharm": {
     "name": "#%%\n"
    }
   }
  },
  {
   "cell_type": "markdown",
   "source": [
    "It seems that the log basic model usually did much worse than both the basic\n",
    "model and the multivariable model. However, one last model we should try\n",
    "is a log log basic model: one that uses the log(Area) feature to predict log(Price), instead\n",
    "of using the raw Area feature."
   ],
   "metadata": {
    "collapsed": false,
    "pycharm": {
     "name": "#%% md\n"
    }
   }
  },
  {
   "cell_type": "code",
   "execution_count": 74,
   "outputs": [],
   "source": [
    "# log transform the basic data...\n",
    "X_train_log_log = np.log(X_train_basic)\n",
    "X_test_log_log = np.log(X_test_basic)"
   ],
   "metadata": {
    "collapsed": false,
    "pycharm": {
     "name": "#%%\n"
    }
   }
  },
  {
   "cell_type": "code",
   "execution_count": 75,
   "outputs": [
    {
     "data": {
      "text/plain": "LinearRegression()"
     },
     "execution_count": 75,
     "metadata": {},
     "output_type": "execute_result"
    }
   ],
   "source": [
    "# create the log log model and fit...\n",
    "log_log_reg = lm.LinearRegression()\n",
    "log_log_reg.fit(X_train_log_log, y_log_train)"
   ],
   "metadata": {
    "collapsed": false,
    "pycharm": {
     "name": "#%%\n"
    }
   }
  },
  {
   "cell_type": "code",
   "execution_count": 76,
   "outputs": [
    {
     "name": "stdout",
     "output_type": "stream",
     "text": [
      "R2 Score for Log Log Regression Model: 0.6329\n"
     ]
    }
   ],
   "source": [
    "# use log log model to generate predictions for log(Price), then determine R2 score...\n",
    "y_pred_log_log = log_log_reg.predict(X_test_log_log)\n",
    "r2_log_log_reg = met.r2_score(y_log_test, y_pred_log_log)\n",
    "print(f'R2 Score for Log Log Regression Model: {round(r2_log_log_reg, 4)}')"
   ],
   "metadata": {
    "collapsed": false,
    "pycharm": {
     "name": "#%%\n"
    }
   }
  },
  {
   "cell_type": "markdown",
   "source": [
    "It looks like the log log model does worse than the basic model we\n",
    "started with. Therefore, we should continue to abide by Occam's Razor\n",
    "and accept the basic model we first created as a sufficient model for\n",
    "predicting housing prices in Amsterdam."
   ],
   "metadata": {
    "collapsed": false,
    "pycharm": {
     "name": "#%% md\n"
    }
   }
  }
 ],
 "metadata": {
  "kernelspec": {
   "display_name": "Python 3",
   "language": "python",
   "name": "python3"
  },
  "language_info": {
   "codemirror_mode": {
    "name": "ipython",
    "version": 2
   },
   "file_extension": ".py",
   "mimetype": "text/x-python",
   "name": "python",
   "nbconvert_exporter": "python",
   "pygments_lexer": "ipython2",
   "version": "2.7.6"
  }
 },
 "nbformat": 4,
 "nbformat_minor": 0
}